{
 "cells": [
  {
   "cell_type": "code",
   "execution_count": 1,
   "metadata": {
    "collapsed": false
   },
   "outputs": [
    {
     "data": {
      "text/plain": [
       "'\\nWIT_AI_KEY = \"INSERT WIT.AI API KEY HERE\"  # Wit.ai keys are 32-character uppercase alphanumeric strings\\ntry:\\n    print(\"Wit.ai thinks you said \" + r.recognize_wit(audio, key=WIT_AI_KEY))\\nexcept sr.UnknownValueError:\\n    print(\"Wit.ai could not understand audio\")\\nexcept sr.RequestError as e:\\n    print(\"Could not request results from Wit.ai service; {0}\".format(e))as sr\\n    '"
      ]
     },
     "execution_count": 1,
     "metadata": {},
     "output_type": "execute_result"
    }
   ],
   "source": [
    "import speech_recognition as sr # recognize speech using Wit.ai\n",
    "'''\n",
    "WIT_AI_KEY = \"INSERT WIT.AI API KEY HERE\"  # Wit.ai keys are 32-character uppercase alphanumeric strings\n",
    "try:\n",
    "    print(\"Wit.ai thinks you said \" + r.recognize_wit(audio, key=WIT_AI_KEY))\n",
    "except sr.UnknownValueError:\n",
    "    print(\"Wit.ai could not understand audio\")\n",
    "except sr.RequestError as e:\n",
    "    print(\"Could not request results from Wit.ai service; {0}\".format(e))as sr\n",
    "    '''"
   ]
  },
  {
   "cell_type": "code",
   "execution_count": 2,
   "metadata": {
    "collapsed": false
   },
   "outputs": [],
   "source": [
    "r = sr.Recognizer()\n",
    "with sr.AudioFile(\"Recording3.wav\") as source:\n",
    "    audio = r.record(source)"
   ]
  },
  {
   "cell_type": "code",
   "execution_count": 3,
   "metadata": {
    "collapsed": false
   },
   "outputs": [
    {
     "name": "stdout",
     "output_type": "stream",
     "text": [
      "Sphinx thinks you said OH ONE TEN THREE FOUR ONE FIVE OH ONE TWO THREE FOUR FIVE\n"
     ]
    }
   ],
   "source": [
    "try:\n",
    "    print(\"Sphinx thinks you said \" + r.recognize_sphinx(audio))\n",
    "except sr.UnknownValueError:\n",
    "    print(\"Sphinx could not understand audio\")\n",
    "except sr.RequestError as e:\n",
    "    print(\"Sphinx error; {0}\".format(e))"
   ]
  },
  {
   "cell_type": "code",
   "execution_count": 4,
   "metadata": {
    "collapsed": false
   },
   "outputs": [
    {
     "name": "stdout",
     "output_type": "stream",
     "text": [
      "Best hypothesis segments:  [('<s>', 2), ('OH', -21901), ('ONE(2)', -5984), ('TEN', -1685), ('THREE', -312), ('FOUR', -2631), ('ONE', -29836), ('FIVE', 1), ('<sil>', -4022), ('OH', -25215), ('ONE(2)', -6922), ('TWO', -8483), ('THREE', -146), ('FOUR', -1103), ('FIVE', 0), ('</s>', 0)]\n"
     ]
    }
   ],
   "source": [
    "decoder = r.recognize_sphinx(audio,show_all=True)\n",
    "\n",
    "print ('Best hypothesis segments: ', [(seg.word, seg.prob) for seg in decoder.seg()])"
   ]
  },
  {
   "cell_type": "code",
   "execution_count": 9,
   "metadata": {
    "collapsed": false
   },
   "outputs": [
    {
     "name": "stdout",
     "output_type": "stream",
     "text": [
      "Google Speech Recognition thinks you said 1 2 3 4 5 1 2 3 4 5\n"
     ]
    }
   ],
   "source": [
    "try:\n",
    "    # for testing purposes, we're just using the default API key\n",
    "    # to use another API key, use `r.recognize_google(audio, key=\"GOOGLE_SPEECH_RECOGNITION_API_KEY\")`\n",
    "    # instead of `r.recognize_google(audio)`\n",
    "    google_output = r.recognize_google(audio)\n",
    "    print(\"Google Speech Recognition thinks you said \" + google_output)\n",
    "except sr.UnknownValueError:\n",
    "    print(\"Google Speech Recognition could not understand audio\")\n",
    "except sr.RequestError as e:\n",
    "    print(\"Could not request results from Google Speech Recognition service; {0}\".format(e))"
   ]
  },
  {
   "cell_type": "code",
   "execution_count": 5,
   "metadata": {
    "collapsed": true
   },
   "outputs": [],
   "source": [
    "keyword_entries_list= [\n",
    "    (\"OH\",1.0),\n",
    "    (\"ONE\", 0.8), \n",
    "    (\"TWO\", 0.95), \n",
    "    (\"THREE\", 0.95),\n",
    "    (\"FOUR\",0.95),\n",
    "    (\"FIVE\",0.95),\n",
    "    (\"SIX\",1.0),\n",
    "    (\"SEVEN\",1.0),\n",
    "    (\"EIGHT\",1.0),\n",
    "    (\"NINE\",1.0),\n",
    "    (\"TEN\",1.0)\n",
    "]"
   ]
  },
  {
   "cell_type": "code",
   "execution_count": 6,
   "metadata": {
    "collapsed": false
   },
   "outputs": [
    {
     "name": "stdout",
     "output_type": "stream",
     "text": [
      "Sphinx recognition for \"one two three\" with different sets of keywords:\n",
      "EIGHT  FIVE  OH  ONE  OH  OH  OH  ONE  FOUR  OH  OH  EIGHT  ONE  TWO  THREE  TWO  ONE  ONE  TEN  OH  TWO  OH  TWO  NINE  OH  ONE  OH  TWO  OH  ONE  OH  EIGHT  OH  FIVE  ONE  OH  OH  ONE  OH  OH  EIGHT  TWO  ONE  THREE  TWO  ONE  NINE  ONE  TEN  OH  TWO  OH  ONE  OH  OH  TWO  ONE  OH \n"
     ]
    }
   ],
   "source": [
    "try:\n",
    "    print(\"Sphinx recognition for \\\"one two three\\\" with different sets of keywords:\")\n",
    "    output = r.recognize_sphinx(audio, keyword_entries=keyword_entries_list)\n",
    "    print(output)\n",
    "    #print(r.recognize_sphinx(audio, keyword_entries=[(\"wan\", 0.95), (\"too\", 1.0), (\"tree\", 1.0)]))\n",
    "    #print(r.recognize_sphinx(audio, keyword_entries=[(\"un\", 0.95), (\"to\", 1.0), (\"tee\", 1.0)]))\n",
    "except sr.UnknownValueError:\n",
    "    print(\"Sphinx could not understand audio\")\n",
    "except sr.RequestError as e:\n",
    "    print(\"Sphinx error; {0}\".format(e))"
   ]
  },
  {
   "cell_type": "code",
   "execution_count": 23,
   "metadata": {
    "collapsed": false
   },
   "outputs": [
    {
     "name": "stdout",
     "output_type": "stream",
     "text": [
      "The string is: 12345\n"
     ]
    }
   ],
   "source": [
    "def process_output(input_string):\n",
    "    import re\n",
    "    stripped_string = re.sub(r'\\D', '', input_string)\n",
    "    \n",
    "    if (len(stripped_string) == 10):\n",
    "        #check if two strings are similar\n",
    "        if stripped_string[:5] == stripped_string[-5:] :\n",
    "            print(\"The string is:\",stripped_string[:5]) \n",
    "            \n",
    "process_output(google_output)"
   ]
  },
  {
   "cell_type": "code",
   "execution_count": null,
   "metadata": {
    "collapsed": true
   },
   "outputs": [],
   "source": []
  }
 ],
 "metadata": {
  "anaconda-cloud": {},
  "kernelspec": {
   "display_name": "Python [default]",
   "language": "python",
   "name": "python3"
  },
  "language_info": {
   "codemirror_mode": {
    "name": "ipython",
    "version": 3
   },
   "file_extension": ".py",
   "mimetype": "text/x-python",
   "name": "python",
   "nbconvert_exporter": "python",
   "pygments_lexer": "ipython3",
   "version": "3.5.2"
  }
 },
 "nbformat": 4,
 "nbformat_minor": 1
}
